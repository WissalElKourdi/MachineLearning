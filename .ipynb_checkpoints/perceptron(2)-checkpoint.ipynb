{
 "cells": [
  {
   "cell_type": "markdown",
   "metadata": {},
   "source": [
    "## Objectives of the practical work\n",
    "\n",
    "The objective is to get hands on experience on the fundamental elements of neural networks:\n",
    " \n",
    " - perceptron architecture (linear regression)\n",
    " - loss function\n",
    " - empirical loss\n",
    " - gradient descent\n",
    "\n",
    "For this we will implement from scratch the data-structure and algorithms to train a perceptron. Note that slides related to the perceptron and neural networks in general are available on [moodle](https://moodle.insa-toulouse.fr/course/view.php?id=1790).\n",
    "\n",
    "## Dataset\n",
    "\n",
    "The objective of the regression is the prediction of the hydrodynamic performance of sailing yachts from dimensions and velocity.\n",
    "The **inputs** are linked to dimension and hydrodynamics characteristics:\n",
    "1. Longitudinal position of the center of buoyancy\n",
    "(*flottabilité*), adimensional.\n",
    "2. Prismatic coefficient, adimensional.\n",
    "3. Length-displacement ratio, adimensional.\n",
    "4. Beam -draught ratio ((*tiran d’eau*), adimensional.\n",
    "5. Length-beam ratio, adimensional.\n",
    "6. Froude number, adimensional\n",
    "\n",
    "**Target value/predicted value (Output)** = Residuary resistance per unit weight of\n",
    "displacement, adimensional"
   ]
  },
  {
   "cell_type": "code",
   "execution_count": 26,
   "metadata": {},
   "outputs": [],
   "source": [
    "# Import some useful libraries and functions\n",
    "\n",
    "import numpy as np\n",
    "import pandas\n",
    "\n",
    "def print_stats(dataset):\n",
    "    \"\"\"Print statistics of a dataset\"\"\"\n",
    "    print(pandas.DataFrame(dataset).describe())\n"
   ]
  },
  {
   "cell_type": "code",
   "execution_count": 27,
   "metadata": {},
   "outputs": [
    {
     "name": "stdout",
     "output_type": "stream",
     "text": [
      "Dataset available\n"
     ]
    }
   ],
   "source": [
    "# Download the data set and place in the current folder (works on linux only)\n",
    "filename = 'yacht_hydrodynamics.data'\n",
    "\n",
    "import os.path\n",
    "import requests\n",
    "\n",
    "if not os.path.exists(filename):\n",
    "    print(\"Downloading dataset...\")\n",
    "    r = requests.get('https://arbimo.github.io/tp-supervised-learning/tp1/' + filename)\n",
    "    open(filename , 'wb').write(r.content)\n",
    "    \n",
    "print('Dataset available')\n"
   ]
  },
  {
   "cell_type": "markdown",
   "metadata": {},
   "source": [
    "### Explore the dataset\n",
    "\n",
    "- how many examples are there in the dataset? 308 examples.(Each line represents an example, so the total number of lines corresponds to the number of examples in the dataset.)\n",
    "- how many features for each example? 7 features. (Each line consists of several values separated by spaces. The number of values in a line corresponds to the number of features for that example.)\n",
    "- what is the ground truth of the 10th example : 1.83. (The last value in the 10thline represents the ground truth for the 10th example.)"
   ]
  },
  {
   "cell_type": "code",
   "execution_count": 28,
   "metadata": {},
   "outputs": [
    {
     "name": "stdout",
     "output_type": "stream",
     "text": [
      "number of examples = 308\n",
      "number of features = 308\n",
      "ground truth of the 10th example = 32.46\n",
      "\n",
      "\n",
      "example n°1 : \n",
      "f([-5.    0.6   4.78  4.24  3.15  0.35]) = 8.62\n",
      "example n°2 : \n",
      "f([-5.     0.565  4.77   3.99   3.15   0.15 ]) = 0.18\n",
      "example n°3 : \n",
      "f([-2.3    0.565  4.78   5.35   2.76   0.15 ]) = 0.29\n",
      "example n°4 : \n",
      "f([-5.     0.6    4.78   4.24   3.15   0.325]) = 6.2\n",
      "example n°5 : \n",
      "f([0.    0.53  4.78  3.75  3.15  0.175]) = 0.59\n"
     ]
    }
   ],
   "source": [
    "# load the dataset and slip between inputs (X) and ground truth (Y)\n",
    "dataset = np.genfromtxt(\"yacht_hydrodynamics.data\", delimiter='')\n",
    "X = dataset[:, :-1] # examples features -  all rows with all elements in rows except last one\n",
    "Y = dataset[:, -1]  # ground truth - last element in all rows\n",
    "print(\"number of examples = \" + str(len(X)))\n",
    "print(\"number of features = \" + str(len(Y)))\n",
    "print(\"ground truth of the 10th example = \" + str(Y[10]))\n",
    "print(\"\\n\")\n",
    "\n",
    "# Print the first 5 examples\n",
    "for i in range(0,5):\n",
    "    print (\"example n°\"+str(i+1)+\" : \")\n",
    "    print(f\"f({X[i]}) = {Y[i]}\")\n",
    "    "
   ]
  },
  {
   "cell_type": "markdown",
   "metadata": {},
   "source": [
    "The following command adds a column to the inputs.\n",
    "\n",
    "- what is in the value added this column?\n",
    "np.ones((len(X))) : array of ones with a length equal to the number of rows in X\n",
    "numpy.insert(Input array, index of insertion= first column, values inserted in the array= 1s, Axis along which to insert values= vertical)\n",
    "- why are we doing this?\n",
    "adding a column of ones at the beginning of the input array helps the model account for any bias or offset in the data, allowing it to make more accurate predictions.\n",
    "The columns are labeled as 0, 1, 2, 3, 4, 5, and 6.\n",
    "- count = Count number of non-NA/null observations= umber of data points available for each column\n",
    "- max = Maximum of the values in the column.\n",
    "- min = Minimum of the values in the column.\n",
    "- mean =  average value of each column.\n",
    "- std = Standard deviation of the observation =  measures the dispersion or variability of the data.\n",
    "- 25%: The 25th percentile value = first quartile = represents the value below which 25% of the data falls.\n",
    "- 50%: The 50th percentile value = median = represents the value below which 50% of the data falls.\n",
    "- 75%: The 75th percentile value = third quartile = represents the value below which 75% of the data falls."
   ]
  },
  {
   "cell_type": "code",
   "execution_count": 29,
   "metadata": {},
   "outputs": [
    {
     "name": "stdout",
     "output_type": "stream",
     "text": [
      "           0           1           2           3           4           5  \\\n",
      "count  308.0  308.000000  308.000000  308.000000  308.000000  308.000000   \n",
      "mean     1.0   -2.381818    0.564136    4.788636    3.936818    3.206818   \n",
      "std      0.0    1.513219    0.023290    0.253057    0.548193    0.247998   \n",
      "min      1.0   -5.000000    0.530000    4.340000    2.810000    2.730000   \n",
      "25%      1.0   -2.400000    0.546000    4.770000    3.750000    3.150000   \n",
      "50%      1.0   -2.300000    0.565000    4.780000    3.955000    3.150000   \n",
      "75%      1.0   -2.300000    0.574000    5.100000    4.170000    3.510000   \n",
      "max      1.0    0.000000    0.600000    5.140000    5.350000    3.640000   \n",
      "\n",
      "                6  \n",
      "count  308.000000  \n",
      "mean     0.287500  \n",
      "std      0.100942  \n",
      "min      0.125000  \n",
      "25%      0.200000  \n",
      "50%      0.287500  \n",
      "75%      0.375000  \n",
      "max      0.450000  \n"
     ]
    }
   ],
   "source": [
    "X = np.insert(X, 0, np.ones((len(X))), axis= 1)\n",
    "print_stats(X)\n"
   ]
  },
  {
   "cell_type": "markdown",
   "metadata": {},
   "source": [
    "## Creating the perceptron\n",
    "\n",
    "![Perceptron for regression](https://arbimo.github.io/tp-supervised-learning/2223-ae/tp1/perceptron-regression.png)\n",
    "\n",
    "We now want to define a perceptron, that is, a function of the form: \n",
    "\n",
    "$h_w(x) = w_0 + w_1 \\times x_1 + \\dots + w_n \\times x_n$\n",
    "\n",
    "- Complete the code snippet below to:\n",
    "  - create the vector of weight `w`, initialize to arbitrary values (we suggest 0)\n",
    "  - implement the `h` function that evaluate an example based on the vector of weights\n",
    "  - check if this works on a few examples"
   ]
  },
  {
   "cell_type": "code",
   "execution_count": 38,
   "metadata": {},
   "outputs": [
    {
     "name": "stdout",
     "output_type": "stream",
     "text": [
      "Evaluation : 7.625\n",
      "Ground truth : 0.18\n"
     ]
    }
   ],
   "source": [
    "w =np.ones(X.shape[1]) # initialization vector weight = w\n",
    "# implementation of h\n",
    "def h(w, x):\n",
    "    result = 0\n",
    "    for i in range(0,len(w)):\n",
    "        #evaluate example i based on w \n",
    "        result = result + w[i] * x[i]\n",
    "        \n",
    "    return result\n",
    "\n",
    "# print the ground truth and the evaluation of h_w on the first example\n",
    "\n",
    "print(\"Evaluation :\",h(w,X[1]))\n",
    "print(\"Ground truth :\",Y[1])"
   ]
  },
  {
   "cell_type": "markdown",
   "metadata": {},
   "source": [
    "## Loss function\n",
    "\n",
    "Complete the definiton of the loss function below such that, for a **single** example `x` with ground truth `y`, it returns the $L_2$ loss of $h_w$ on `x`."
   ]
  },
  {
   "cell_type": "code",
   "execution_count": 39,
   "metadata": {},
   "outputs": [
    {
     "name": "stdout",
     "output_type": "stream",
     "text": [
      "test loss : 0.25\n",
      "L0 :  0.25\n",
      "L1 :  55.428025000000005\n"
     ]
    }
   ],
   "source": [
    "import math\n",
    "def loss(w, x, y):\n",
    "    return math.pow(y-h(w,x),2) \n",
    "\n",
    "\n",
    "print(\"L0 : \", loss(w,X[0],Y[0]))\n",
    "print(\"L1 : \", loss(w,X[1],Y[1]))"
   ]
  },
  {
   "cell_type": "markdown",
   "metadata": {},
   "source": [
    "## Empirical loss\n",
    "\n",
    "Complete the function below to compute the empirical loss of $h_w$ on a **set** of examples $X$ with associated ground truths $Y$."
   ]
  },
  {
   "cell_type": "code",
   "execution_count": 50,
   "metadata": {},
   "outputs": [
    {
     "name": "stdout",
     "output_type": "stream",
     "text": [
      "Emp_Loss = 331.34734908680434\n"
     ]
    }
   ],
   "source": [
    "def emp_loss(w, X, Y):\n",
    "    aux=0\n",
    "    for i in range(1,len(X)):\n",
    "        aux+=loss(w,X[i],Y[i])/len(X)\n",
    "    return aux\n",
    "\n",
    "print(\"Emp_Loss = \" + str(emp_loss(w,X,Y)))"
   ]
  },
  {
   "cell_type": "markdown",
   "metadata": {},
   "source": [
    "## Gradient update\n",
    "\n",
    "A gradient update is of the form: $w \\gets w + dw$\n",
    "\n",
    "- Complete the function below so that it computes the $dw$ term (the 'update') based on a set of examples `(X, Y)` the step (`alpha`)\n",
    "\n",
    "(you can look at slide 32 of the ANN lecture slides for an example)"
   ]
  },
  {
   "cell_type": "code",
   "execution_count": 49,
   "metadata": {},
   "outputs": [
    {
     "name": "stdout",
     "output_type": "stream",
     "text": [
      "[-0.01558587  0.00319298  0.02796254  0.02850935  0.02711901  0.00384826]\n"
     ]
    }
   ],
   "source": [
    "def compute_update(w, X, Y, alpha):\n",
    "    for i in range(len(w)):\n",
    "        sum=0\n",
    "        for j in range(len(X)):\n",
    "            sum+=(Y[j]-h(w,X[j]))*X[j][i]\n",
    " \n",
    "        w[i] += sum*alpha\n",
    "    return w\n",
    "    \n",
    "\n",
    "z=compute_update(w, X, Y, alpha = 10e-7)\n",
    "print(z)"
   ]
  },
  {
   "cell_type": "markdown",
   "metadata": {},
   "source": [
    "## Gradient descent\n",
    "\n",
    "Now implement the gradient descent algorithm that will:\n",
    "\n",
    "- repeatedly apply an update the weights \n",
    "- stops when a max number of iterations is reached (do not consider early stopping for now)\n",
    "- returns the final vector of weights"
   ]
  },
  {
   "cell_type": "code",
   "execution_count": 16,
   "metadata": {},
   "outputs": [
    {
     "name": "stdout",
     "output_type": "stream",
     "text": [
      "(array([335.27806701, 331.67838096, 328.20205867, 324.84486887,\n",
      "       321.60272547, 318.47168251, 315.44792943, 312.52778636,\n",
      "       309.70769968, 306.98423767, 304.35408633, 301.81404533,\n",
      "       299.36102414, 296.99203824, 294.70420549, 292.49474261,\n",
      "       290.3609618 , 288.30026747, 286.31015303, 284.38819792,\n",
      "       282.53206458, 280.73949565, 279.0083112 , 277.33640606,\n",
      "       275.72174729, 274.16237169, 272.65638338, 271.20195152,\n",
      "       269.79730808, 268.44074567, 267.13061547, 265.8653252 ,\n",
      "       264.64333721, 263.46316661, 262.3233794 , 261.22259081,\n",
      "       260.15946353, 259.13270617, 258.14107158, 257.18335542,\n",
      "       256.25839466, 255.36506614, 254.50228524, 253.66900454,\n",
      "       252.86421255, 252.08693245, 251.33622096, 250.61116712,\n",
      "       249.91089124, 249.23454378]), array([ 0.1092365 , -0.24843118,  0.06145527,  0.52230842,  0.42727611,\n",
      "        0.35005402,  0.05043085]))\n"
     ]
    }
   ],
   "source": [
    "def descent(w_init, X, Y, alpha, max_iter):\n",
    "    tab_loss=np.zeros(max_iter)\n",
    "    aux=0\n",
    "    w_init=np.zeros(7)\n",
    "    for i in range (max_iter):\n",
    "        w_init=w_init+compute_update(w_init,X,Y,alpha)\n",
    "        tab_loss[i]=emp_loss(w_init,X,Y)\n",
    "    return tab_loss,w_init\n",
    "z=descent(w,X,Y,10e-7,50)\n",
    "print(z)"
   ]
  },
  {
   "cell_type": "markdown",
   "metadata": {},
   "source": [
    "## Exploitation\n",
    "\n",
    "You gradient descent is now complete and you can exploit it to train your perceptron.\n",
    "\n",
    "- Train your perceptron to get a model.\n",
    "- Visualize the evolution of the loss on the training set. Has it converged?\n",
    "- Try training for several choices of `alpha` and `max_iter`. What seem like a reasonable choice?\n",
    "- What is the loss associated with the final model?\n",
    "- Is the final model the optimal one for a perceptron?\n"
   ]
  },
  {
   "cell_type": "code",
   "execution_count": 24,
   "metadata": {},
   "outputs": [
    {
     "name": "stdout",
     "output_type": "stream",
     "text": [
      "[ -6.1205722    0.2250799   -4.96430684   0.80393672  -1.40828561\n",
      "  -3.42340008 113.58669617]\n"
     ]
    },
    {
     "data": {
      "text/plain": [
       "[<matplotlib.lines.Line2D at 0x7f83b88b83a0>]"
      ]
     },
     "execution_count": 24,
     "metadata": {},
     "output_type": "execute_result"
    },
    {
     "data": {
      "image/png": "[encoded data removed]",
      "text/plain": [
       "<Figure size 640x480 with 1 Axes>"
      ]
     },
     "metadata": {},
     "output_type": "display_data"
    }
   ],
   "source": [
    "import matplotlib.pyplot as plt\n",
    "w=np.zeros(7)\n",
    "loss1,w=descent(w,X,Y,10e-5,9000)\n",
    "print(w)\n",
    "plt.plot(loss1)"
   ]
  },
  {
   "cell_type": "code",
   "execution_count": 25,
   "metadata": {},
   "outputs": [
    {
     "data": {
      "text/plain": [
       "79.29265651265239"
      ]
     },
     "execution_count": 25,
     "metadata": {},
     "output_type": "execute_result"
    }
   ],
   "source": [
    "loss1[-1]"
   ]
  },
  {
   "cell_type": "code",
   "execution_count": 18,
   "metadata": {},
   "outputs": [
    {
     "data": {
      "text/plain": [
       "Text(0, 0.5, 'f(examples)')"
      ]
     },
     "execution_count": 18,
     "metadata": {},
     "output_type": "execute_result"
    },
    {
     "data": {
      "image/png": "[encoded data removed]",
      "text/plain": [
       "<Figure size 640x480 with 1 Axes>"
      ]
     },
     "metadata": {},
     "output_type": "display_data"
    }
   ],
   "source": [
    "# Code sample that can be used to visualize the difference between the ground truth and the prediction\n",
    "\n",
    "num_samples_to_plot = 20\n",
    "plt.plot(Y[0:num_samples_to_plot], 'ro', label='y')\n",
    "yw = [h(w,x) for x in X]\n",
    "plt.plot(yw[0:num_samples_to_plot], 'bx', label='$\\hat{y}$')\n",
    "plt.legend()\n",
    "plt.xlabel(\"Examples\")\n",
    "plt.ylabel(\"f(examples)\")\n",
    "\n"
   ]
  },
  {
   "cell_type": "markdown",
   "metadata": {},
   "source": [
    "\n",
    "\n",
    "\n",
    "\n",
    "# Going further\n",
    "\n",
    "The following are extensions of the work previously done. If attempting them **do not modify** the code you produced above so that it can be evaluated.\n",
    "\n",
    "### Improvements to gradient descent\n",
    "\n",
    "Consider improving the gradient descent with:\n",
    "\n",
    " - Stochastic Gradient Descent (SGD), which means selecting a subset of the examples for training\n",
    " - Detection of convergence to halt the algorithm before the maximum number of iterations\n",
    "\n",
    "\n",
    "### Data normalization\n",
    "\n",
    "Different input features can have different units, and very different ranges.\n",
    "Within the perceptron computation, these values will be summed together.\n",
    "While gradient descent is normally able to deal with this (by adapting the weights of the perceptron for each input feature), standardizing the input features usually eases the perceptron training, and can sometimes improve accuracy.\n",
    "\n",
    "\n",
    "\n",
    "\n",
    "```python\n",
    "from sklearn.preprocessing import StandardScaler\n",
    "sc = StandardScaler(copy=True) \n",
    "X_normalized = sc.fit_transform(X)\n",
    "```\n",
    "\n",
    "Try applying a standard normalization to the input features (make sure that you keep a feature column that is always equal to 1). Is the convergence faster ? Try to quantify this speed-up. What about accuracy ?"
   ]
  }
 ],
 "metadata": {
  "kernelspec": {
   "display_name": "Python 3 (ipykernel)",
   "language": "python",
   "name": "python3"
  },
  "language_info": {
   "codemirror_mode": {
    "name": "ipython",
    "version": 3
   },
   "file_extension": ".py",
   "mimetype": "text/x-python",
   "name": "python",
   "nbconvert_exporter": "python",
   "pygments_lexer": "ipython3",
   "version": "3.9.12"
  }
 },
 "nbformat": 4,
 "nbformat_minor": 4
}
