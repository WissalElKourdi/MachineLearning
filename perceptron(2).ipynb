{
 "cells": [
  {
   "cell_type": "markdown",
   "metadata": {},
   "source": [
    "## Objectives of the practical work\n",
    "\n",
    "The objective is to get hands on experience on the fundamental elements of neural networks:\n",
    " \n",
    " - perceptron architecture (linear regression)\n",
    " - loss function\n",
    " - empirical loss\n",
    " - gradient descent\n",
    "\n",
    "For this we will implement from scratch the data-structure and algorithms to train a perceptron. Note that slides related to the perceptron and neural networks in general are available on [moodle](https://moodle.insa-toulouse.fr/course/view.php?id=1790).\n",
    "\n",
    "## Dataset\n",
    "\n",
    "The objective of the regression is the prediction of the hydrodynamic performance of sailing yachts from dimensions and velocity.\n",
    "The **inputs** are linked to dimension and hydrodynamics characteristics:\n",
    "1. Longitudinal position of the center of buoyancy\n",
    "(*flottabilité*), adimensional.\n",
    "2. Prismatic coefficient, adimensional.\n",
    "3. Length-displacement ratio, adimensional.\n",
    "4. Beam -draught ratio ((*tiran d’eau*), adimensional.\n",
    "5. Length-beam ratio, adimensional.\n",
    "6. Froude number, adimensional\n",
    "\n",
    "**Target value/predicted value (Output)** = Residuary resistance per unit weight of\n",
    "displacement, adimensional"
   ]
  },
  {
   "cell_type": "code",
   "execution_count": 1,
   "metadata": {},
   "outputs": [],
   "source": [
    "# Import some useful libraries and functions\n",
    "\n",
    "import numpy as np\n",
    "import pandas\n",
    "\n",
    "def print_stats(dataset):\n",
    "    \"\"\"Print statistics of a dataset\"\"\"\n",
    "    print(pandas.DataFrame(dataset).describe())\n"
   ]
  },
  {
   "cell_type": "code",
   "execution_count": 2,
   "metadata": {},
   "outputs": [
    {
     "name": "stdout",
     "output_type": "stream",
     "text": [
      "Dataset available\n"
     ]
    }
   ],
   "source": [
    "# Download the data set and place in the current folder (works on linux only)\n",
    "filename = 'yacht_hydrodynamics.data'\n",
    "\n",
    "import os.path\n",
    "import requests\n",
    "\n",
    "if not os.path.exists(filename):\n",
    "    print(\"Downloading dataset...\")\n",
    "    r = requests.get('https://arbimo.github.io/tp-supervised-learning/tp1/' + filename)\n",
    "    open(filename , 'wb').write(r.content)\n",
    "    \n",
    "print('Dataset available')\n"
   ]
  },
  {
   "cell_type": "markdown",
   "metadata": {},
   "source": [
    "### Explore the dataset\n",
    "\n",
    "- how many examples are there in the dataset? 308 examples.(Each line represents an example, so the total number of lines corresponds to the number of examples in the dataset.)\n",
    "- how many features for each example? 7 features. (Each line consists of several values separated by spaces. The number of values in a line corresponds to the number of features for that example.)\n",
    "- what is the ground truth of the 10th example : 1.83. (The last value in the 10thline represents the ground truth for the 10th example.)"
   ]
  },
  {
   "cell_type": "code",
   "execution_count": 3,
   "metadata": {},
   "outputs": [
    {
     "name": "stdout",
     "output_type": "stream",
     "text": [
      "number of examples = 308\n",
      "number of features = 308\n",
      "ground truth of the 10th example = 32.46\n",
      "\n",
      "\n",
      "example n°1 : \n",
      "f([-5.    0.6   4.78  4.24  3.15  0.35]) = 8.62\n",
      "example n°2 : \n",
      "f([-5.     0.565  4.77   3.99   3.15   0.15 ]) = 0.18\n",
      "example n°3 : \n",
      "f([-2.3    0.565  4.78   5.35   2.76   0.15 ]) = 0.29\n",
      "example n°4 : \n",
      "f([-5.     0.6    4.78   4.24   3.15   0.325]) = 6.2\n",
      "example n°5 : \n",
      "f([0.    0.53  4.78  3.75  3.15  0.175]) = 0.59\n"
     ]
    }
   ],
   "source": [
    "# load the dataset and slip between inputs (X) and ground truth (Y)\n",
    "dataset = np.genfromtxt(\"yacht_hydrodynamics.data\", delimiter='')\n",
    "X = dataset[:, :-1] # examples features -  all rows with all elements in rows except last one\n",
    "Y = dataset[:, -1]  # ground truth - last element in all rows\n",
    "print(\"number of examples = \" + str(len(X)))\n",
    "print(\"number of features = \" + str(len(Y)))\n",
    "print(\"ground truth of the 10th example = \" + str(Y[10]))\n",
    "print(\"\\n\")\n",
    "\n",
    "# Print the first 5 examples\n",
    "for i in range(0,5):\n",
    "    print (\"example n°\"+str(i+1)+\" : \")\n",
    "    print(f\"f({X[i]}) = {Y[i]}\")\n",
    "    "
   ]
  },
  {
   "cell_type": "markdown",
   "metadata": {},
   "source": [
    "The following command adds a column to the inputs.\n",
    "\n",
    "- what is in the value added this column?\n",
    "np.ones((len(X))) : array of ones with a length equal to the number of rows in X\n",
    "numpy.insert(Input array, index of insertion= first column, values inserted in the array= 1s, Axis along which to insert values= vertical)\n",
    "- why are we doing this?\n",
    "adding a column of ones at the beginning of the input array helps the model account for any bias or offset in the data, allowing it to make more accurate predictions.\n",
    "The columns are labeled as 0, 1, 2, 3, 4, 5, and 6.\n",
    "- count = Count number of non-NA/null observations= umber of data points available for each column\n",
    "- max = Maximum of the values in the column.\n",
    "- min = Minimum of the values in the column.\n",
    "- mean =  average value of each column.\n",
    "- std = Standard deviation of the observation =  measures the dispersion or variability of the data.\n",
    "- 25%: The 25th percentile value = first quartile = represents the value below which 25% of the data falls.\n",
    "- 50%: The 50th percentile value = median = represents the value below which 50% of the data falls.\n",
    "- 75%: The 75th percentile value = third quartile = represents the value below which 75% of the data falls."
   ]
  },
  {
   "cell_type": "code",
   "execution_count": 4,
   "metadata": {},
   "outputs": [
    {
     "name": "stdout",
     "output_type": "stream",
     "text": [
      "           0           1           2           3           4           5  \\\n",
      "count  308.0  308.000000  308.000000  308.000000  308.000000  308.000000   \n",
      "mean     1.0   -2.381818    0.564136    4.788636    3.936818    3.206818   \n",
      "std      0.0    1.513219    0.023290    0.253057    0.548193    0.247998   \n",
      "min      1.0   -5.000000    0.530000    4.340000    2.810000    2.730000   \n",
      "25%      1.0   -2.400000    0.546000    4.770000    3.750000    3.150000   \n",
      "50%      1.0   -2.300000    0.565000    4.780000    3.955000    3.150000   \n",
      "75%      1.0   -2.300000    0.574000    5.100000    4.170000    3.510000   \n",
      "max      1.0    0.000000    0.600000    5.140000    5.350000    3.640000   \n",
      "\n",
      "                6  \n",
      "count  308.000000  \n",
      "mean     0.287500  \n",
      "std      0.100942  \n",
      "min      0.125000  \n",
      "25%      0.200000  \n",
      "50%      0.287500  \n",
      "75%      0.375000  \n",
      "max      0.450000  \n"
     ]
    }
   ],
   "source": [
    "X = np.insert(X, 0, np.ones((len(X))), axis= 1)\n",
    "print_stats(X)\n"
   ]
  },
  {
   "cell_type": "markdown",
   "metadata": {},
   "source": [
    "## Creating the perceptron\n",
    "\n",
    "![Perceptron for regression](https://arbimo.github.io/tp-supervised-learning/2223-ae/tp1/perceptron-regression.png)\n",
    "\n",
    "We now want to define a perceptron, that is, a function of the form: \n",
    "\n",
    "$h_w(x) = w_0 + w_1 \\times x_1 + \\dots + w_n \\times x_n$\n",
    "\n",
    "- Complete the code snippet below to:\n",
    "  - create the vector of weight `w`, initialize to arbitrary values (we suggest 0)\n",
    "  - implement the `h` function that evaluate an example based on the vector of weights\n",
    "  - check if this works on a few examples"
   ]
  },
  {
   "cell_type": "code",
   "execution_count": 5,
   "metadata": {},
   "outputs": [
    {
     "name": "stdout",
     "output_type": "stream",
     "text": [
      "Evaluation : 8.625\n",
      "Ground truth : 0.18\n"
     ]
    }
   ],
   "source": [
    "w =np.ones(X.shape[1]) # initialization vector weight = w\n",
    "# implementation of h\n",
    "def h(w, x):\n",
    "    result = 0\n",
    "    for i in range(0,len(w)):\n",
    "        #evaluate example i based on w \n",
    "        result = result + w[i] * x[i]\n",
    "        \n",
    "    return result\n",
    "\n",
    "# print the ground truth and the evaluation of h_w on the first example\n",
    "\n",
    "print(\"Evaluation :\",h(w,X[1]))\n",
    "print(\"Ground truth :\",Y[1])"
   ]
  },
  {
   "cell_type": "markdown",
   "metadata": {},
   "source": [
    "## Loss function\n",
    "\n",
    "Complete the definiton of the loss function below such that, for a **single** example `x` with ground truth `y`, it returns the $L_2$ loss of $h_w$ on `x`."
   ]
  },
  {
   "cell_type": "code",
   "execution_count": 6,
   "metadata": {},
   "outputs": [
    {
     "name": "stdout",
     "output_type": "stream",
     "text": [
      "L0 :  0.2500000000000018\n",
      "L1 :  71.318025\n"
     ]
    }
   ],
   "source": [
    "import math\n",
    "def loss(w, x, y):\n",
    "    return math.pow(y-h(w,x),2) \n",
    "\n",
    "\n",
    "print(\"L0 : \", loss(w,X[0],Y[0]))\n",
    "print(\"L1 : \", loss(w,X[1],Y[1]))"
   ]
  },
  {
   "cell_type": "markdown",
   "metadata": {},
   "source": [
    "## Empirical loss\n",
    "\n",
    "Complete the function below to compute the empirical loss of $h_w$ on a **set** of examples $X$ with associated ground truths $Y$."
   ]
  },
  {
   "cell_type": "code",
   "execution_count": 7,
   "metadata": {},
   "outputs": [
    {
     "name": "stdout",
     "output_type": "stream",
     "text": [
      "Emp_Loss = 229.62787322727277\n"
     ]
    }
   ],
   "source": [
    "def emp_loss(w, X, Y):\n",
    "    aux=0\n",
    "    for i in range(1,len(X)):\n",
    "        aux+=loss(w,X[i],Y[i])/len(X)\n",
    "    return aux\n",
    "\n",
    "print(\"Emp_Loss = \" + str(emp_loss(w,X,Y)))"
   ]
  },
  {
   "cell_type": "markdown",
   "metadata": {},
   "source": [
    "## Gradient update\n",
    "\n",
    "A gradient update is of the form: $w \\gets w + dw$\n",
    "\n",
    "- Complete the function below so that it computes the $dw$ term (the 'update') based on a set of examples `(X, Y)` the step (`alpha`)\n",
    "\n",
    "(you can look at slide 32 of the ANN lecture slides for an example)"
   ]
  },
  {
   "cell_type": "code",
   "execution_count": 8,
   "metadata": {},
   "outputs": [
    {
     "name": "stdout",
     "output_type": "stream",
     "text": [
      "[0.99972073 1.00009802 0.99983828 0.99861171 0.99878316 0.99909963\n",
      " 1.00029849]\n"
     ]
    }
   ],
   "source": [
    "def compute_update(w, X, Y, alpha):\n",
    "    for i in range(len(w)):\n",
    "        sum=0\n",
    "        for j in range(len(X)):\n",
    "            sum+=(Y[j]-h(w,X[j]))*X[j][i]\n",
    " \n",
    "        w[i] += sum*alpha\n",
    "    return w\n",
    "    \n",
    "\n",
    "z=compute_update(w, X, Y, alpha = 10e-7)\n",
    "print(z)"
   ]
  },
  {
   "cell_type": "markdown",
   "metadata": {},
   "source": [
    "## Gradient descent\n",
    "\n",
    "Now implement the gradient descent algorithm that will:\n",
    "\n",
    "- repeatedly apply an update the weights \n",
    "- stops when a max number of iterations is reached (do not consider early stopping for now)\n",
    "- returns the final vector of weights"
   ]
  },
  {
   "cell_type": "code",
   "execution_count": 14,
   "metadata": {},
   "outputs": [
    {
     "name": "stdout",
     "output_type": "stream",
     "text": [
      "Tab_loss : [3.31659742e+02 3.17968925e+02 2.93948537e+02 2.57901527e+02\n",
      " 2.30195285e+02 3.42443761e+02 1.20717586e+03 5.39543107e+03\n",
      " 2.32425883e+04 9.54704004e+04 3.80964159e+05 1.49664484e+06\n",
      " 5.83204579e+06 2.26311524e+07 8.76321742e+07 3.38958695e+08\n",
      " 1.31035408e+09 5.06416347e+09 1.95688030e+10 7.56117008e+10\n",
      " 2.92144411e+11 1.12875045e+12 4.36108065e+12 1.68495452e+13\n",
      " 6.51000290e+13 2.51520650e+14 9.71775278e+14 3.75455026e+15\n",
      " 1.45060759e+16 5.60456550e+16 2.16537917e+17 8.36615624e+17\n",
      " 3.23234720e+18 1.24884936e+19 4.82505344e+19 1.86420738e+20\n",
      " 7.20255096e+20 2.78277749e+21 1.07515393e+22 4.15396507e+22\n",
      " 1.60492617e+23 6.20079400e+23 2.39573941e+24 9.25618186e+24\n",
      " 3.57621986e+25 1.38170895e+26 5.33837362e+26 2.06253530e+27\n",
      " 7.96881692e+27 3.07883448e+28] \n",
      " w = [ 3.20303344e+12 -6.93626150e+12  1.79544729e+12  1.52521936e+13\n",
      "  1.23324623e+13  1.01136209e+13  1.76207201e+12]\n"
     ]
    }
   ],
   "source": [
    "def descent(w_init, X, Y, alpha, max_iter):\n",
    "    tab_loss=np.zeros(max_iter)\n",
    "    aux=0\n",
    "    w_init=np.zeros(7)\n",
    "    for i in range (max_iter):\n",
    "        w_init=w_init+compute_update(w_init,X,Y,alpha)\n",
    "        tab_loss[i]=emp_loss(w_init,X,Y)\n",
    "    return tab_loss,w_init\n",
    "(tab_loss, w)=descent(w,X,Y,10e-7,50)\n",
    "print(\"Tab_loss : \" + str(tab_loss) + \" \\n w = \" + str(w))"
   ]
  },
  {
   "cell_type": "markdown",
   "metadata": {},
   "source": [
    "## Exploitation\n",
    "\n",
    "You gradient descent is now complete and you can exploit it to train your perceptron.\n",
    "\n",
    "- Train your perceptron to get a model.\n",
    "- Visualize the evolution of the loss on the training set. Has it converged?\n",
    "- Try training for several choices of `alpha` and `max_iter`. What seem like a reasonable choice?\n",
    "- What is the loss associated with the final model?\n",
    "- Is the final model the optimal one for a perceptron?\n"
   ]
  },
  {
   "cell_type": "code",
   "execution_count": 10,
   "metadata": {},
   "outputs": [
    {
     "ename": "OverflowError",
     "evalue": "math range error",
     "output_type": "error",
     "traceback": [
      "\u001b[0;31m---------------------------------------------------------------------------\u001b[0m",
      "\u001b[0;31mOverflowError\u001b[0m                             Traceback (most recent call last)",
      "Input \u001b[0;32mIn [10]\u001b[0m, in \u001b[0;36m<cell line: 3>\u001b[0;34m()\u001b[0m\n\u001b[1;32m      1\u001b[0m \u001b[38;5;28;01mimport\u001b[39;00m \u001b[38;5;21;01mmatplotlib\u001b[39;00m\u001b[38;5;21;01m.\u001b[39;00m\u001b[38;5;21;01mpyplot\u001b[39;00m \u001b[38;5;28;01mas\u001b[39;00m \u001b[38;5;21;01mplt\u001b[39;00m\n\u001b[1;32m      2\u001b[0m w\u001b[38;5;241m=\u001b[39mnp\u001b[38;5;241m.\u001b[39mzeros(\u001b[38;5;241m7\u001b[39m)\n\u001b[0;32m----> 3\u001b[0m loss1,w\u001b[38;5;241m=\u001b[39m\u001b[43mdescent\u001b[49m\u001b[43m(\u001b[49m\u001b[43mw\u001b[49m\u001b[43m,\u001b[49m\u001b[43mX\u001b[49m\u001b[43m,\u001b[49m\u001b[43mY\u001b[49m\u001b[43m,\u001b[49m\u001b[38;5;241;43m10e-5\u001b[39;49m\u001b[43m,\u001b[49m\u001b[38;5;241;43m9000\u001b[39;49m\u001b[43m)\u001b[49m\n\u001b[1;32m      4\u001b[0m \u001b[38;5;28mprint\u001b[39m(w)\n\u001b[1;32m      5\u001b[0m plt\u001b[38;5;241m.\u001b[39mplot(loss1)\n",
      "Input \u001b[0;32mIn [9]\u001b[0m, in \u001b[0;36mdescent\u001b[0;34m(w_init, X, Y, alpha, max_iter)\u001b[0m\n\u001b[1;32m      5\u001b[0m \u001b[38;5;28;01mfor\u001b[39;00m i \u001b[38;5;129;01min\u001b[39;00m \u001b[38;5;28mrange\u001b[39m (max_iter):\n\u001b[1;32m      6\u001b[0m     w_init\u001b[38;5;241m=\u001b[39mw_init\u001b[38;5;241m+\u001b[39mcompute_update(w_init,X,Y,alpha)\n\u001b[0;32m----> 7\u001b[0m     tab_loss[i]\u001b[38;5;241m=\u001b[39m\u001b[43memp_loss\u001b[49m\u001b[43m(\u001b[49m\u001b[43mw_init\u001b[49m\u001b[43m,\u001b[49m\u001b[43mX\u001b[49m\u001b[43m,\u001b[49m\u001b[43mY\u001b[49m\u001b[43m)\u001b[49m\n\u001b[1;32m      8\u001b[0m \u001b[38;5;28;01mreturn\u001b[39;00m tab_loss,w_init\n",
      "Input \u001b[0;32mIn [7]\u001b[0m, in \u001b[0;36memp_loss\u001b[0;34m(w, X, Y)\u001b[0m\n\u001b[1;32m      2\u001b[0m aux\u001b[38;5;241m=\u001b[39m\u001b[38;5;241m0\u001b[39m\n\u001b[1;32m      3\u001b[0m \u001b[38;5;28;01mfor\u001b[39;00m i \u001b[38;5;129;01min\u001b[39;00m \u001b[38;5;28mrange\u001b[39m(\u001b[38;5;241m1\u001b[39m,\u001b[38;5;28mlen\u001b[39m(X)):\n\u001b[0;32m----> 4\u001b[0m     aux\u001b[38;5;241m+\u001b[39m\u001b[38;5;241m=\u001b[39m\u001b[43mloss\u001b[49m\u001b[43m(\u001b[49m\u001b[43mw\u001b[49m\u001b[43m,\u001b[49m\u001b[43mX\u001b[49m\u001b[43m[\u001b[49m\u001b[43mi\u001b[49m\u001b[43m]\u001b[49m\u001b[43m,\u001b[49m\u001b[43mY\u001b[49m\u001b[43m[\u001b[49m\u001b[43mi\u001b[49m\u001b[43m]\u001b[49m\u001b[43m)\u001b[49m\u001b[38;5;241m/\u001b[39m\u001b[38;5;28mlen\u001b[39m(X)\n\u001b[1;32m      5\u001b[0m \u001b[38;5;28;01mreturn\u001b[39;00m aux\n",
      "Input \u001b[0;32mIn [6]\u001b[0m, in \u001b[0;36mloss\u001b[0;34m(w, x, y)\u001b[0m\n\u001b[1;32m      2\u001b[0m \u001b[38;5;28;01mdef\u001b[39;00m \u001b[38;5;21mloss\u001b[39m(w, x, y):\n\u001b[0;32m----> 3\u001b[0m     \u001b[38;5;28;01mreturn\u001b[39;00m \u001b[43mmath\u001b[49m\u001b[38;5;241;43m.\u001b[39;49m\u001b[43mpow\u001b[49m\u001b[43m(\u001b[49m\u001b[43my\u001b[49m\u001b[38;5;241;43m-\u001b[39;49m\u001b[43mh\u001b[49m\u001b[43m(\u001b[49m\u001b[43mw\u001b[49m\u001b[43m,\u001b[49m\u001b[43mx\u001b[49m\u001b[43m)\u001b[49m\u001b[43m,\u001b[49m\u001b[38;5;241;43m2\u001b[39;49m\u001b[43m)\u001b[49m\n",
      "\u001b[0;31mOverflowError\u001b[0m: math range error"
     ]
    }
   ],
   "source": [
    "import matplotlib.pyplot as plt\n",
    "w=np.zeros(7)\n",
    "loss1,w=descent(w,X,Y,10e-5,9000)\n",
    "print(w)\n",
    "plt.plot(loss1)"
   ]
  },
  {
   "cell_type": "code",
   "execution_count": null,
   "metadata": {},
   "outputs": [],
   "source": [
    "loss1[-1]"
   ]
  },
  {
   "cell_type": "code",
   "execution_count": null,
   "metadata": {},
   "outputs": [],
   "source": [
    "# Code sample that can be used to visualize the difference between the ground truth and the prediction\n",
    "\n",
    "num_samples_to_plot = 20\n",
    "plt.plot(Y[0:num_samples_to_plot], 'ro', label='y')\n",
    "yw = [h(w,x) for x in X]\n",
    "plt.plot(yw[0:num_samples_to_plot], 'bx', label='$\\hat{y}$')\n",
    "plt.legend()\n",
    "plt.xlabel(\"Examples\")\n",
    "plt.ylabel(\"f(examples)\")\n",
    "\n"
   ]
  },
  {
   "cell_type": "markdown",
   "metadata": {},
   "source": [
    "\n",
    "\n",
    "\n",
    "\n",
    "# Going further\n",
    "\n",
    "The following are extensions of the work previously done. If attempting them **do not modify** the code you produced above so that it can be evaluated.\n",
    "\n",
    "### Improvements to gradient descent\n",
    "\n",
    "Consider improving the gradient descent with:\n",
    "\n",
    " - Stochastic Gradient Descent (SGD), which means selecting a subset of the examples for training\n",
    " - Detection of convergence to halt the algorithm before the maximum number of iterations\n",
    "\n",
    "\n",
    "### Data normalization\n",
    "\n",
    "Different input features can have different units, and very different ranges.\n",
    "Within the perceptron computation, these values will be summed together.\n",
    "While gradient descent is normally able to deal with this (by adapting the weights of the perceptron for each input feature), standardizing the input features usually eases the perceptron training, and can sometimes improve accuracy.\n",
    "\n",
    "\n",
    "\n",
    "\n",
    "```python\n",
    "from sklearn.preprocessing import StandardScaler\n",
    "sc = StandardScaler(copy=True) \n",
    "X_normalized = sc.fit_transform(X)\n",
    "```\n",
    "\n",
    "Try applying a standard normalization to the input features (make sure that you keep a feature column that is always equal to 1). Is the convergence faster ? Try to quantify this speed-up. What about accuracy ?"
   ]
  }
 ],
 "metadata": {
  "kernelspec": {
   "display_name": "Python 3 (ipykernel)",
   "language": "python",
   "name": "python3"
  },
  "language_info": {
   "codemirror_mode": {
    "name": "ipython",
    "version": 3
   },
   "file_extension": ".py",
   "mimetype": "text/x-python",
   "name": "python",
   "nbconvert_exporter": "python",
   "pygments_lexer": "ipython3",
   "version": "3.9.12"
  }
 },
 "nbformat": 4,
 "nbformat_minor": 4
}
